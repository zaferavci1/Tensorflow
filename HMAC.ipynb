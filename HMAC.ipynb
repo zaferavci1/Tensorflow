{
 "cells": [
  {
   "cell_type": "code",
   "execution_count": 5,
   "id": "b2f76134-bbc6-4447-ba3c-b01406f95383",
   "metadata": {},
   "outputs": [
    {
     "name": "stdout",
     "output_type": "stream",
     "text": [
      "HMAC (SHA-256): 6f998d8321d6626af46788a4f5b3f28fd9a31596aef8d30e30789bb98515dbd8\n"
     ]
    }
   ],
   "source": [
    "import hmac\n",
    "import hashlib\n",
    "\n",
    "# Girdi parametreleri\n",
    "secret_key = b\"my_secret_key\"  # Gizli anahtar (byte formatında)\n",
    "message = \"Bu bir HMAC mesajıdır.\"  # Mesaj (byte formatında)\n",
    "message_bytes = message.encode(\"utf-8\")\n",
    "\n",
    "# SHA-256 kullanarak HMAC hesaplama\n",
    "hmac_result = hmac.new(secret_key, message_bytes, hashlib.sha256)\n",
    "\n",
    "# HMAC çıktısını almak\n",
    "hmac_digest = hmac_result.hexdigest()  # Hexadecimal formatında çıktı\n",
    "\n",
    "# Sonuç\n",
    "print(\"HMAC (SHA-256):\", hmac_digest)\n",
    "\n",
    "\n"
   ]
  },
  {
   "cell_type": "code",
   "execution_count": null,
   "id": "79ecc11c-0f46-43a5-8294-dc9e3124716e",
   "metadata": {},
   "outputs": [],
   "source": []
  }
 ],
 "metadata": {
  "kernelspec": {
   "display_name": "Python 3 (ipykernel)",
   "language": "python",
   "name": "python3"
  },
  "language_info": {
   "codemirror_mode": {
    "name": "ipython",
    "version": 3
   },
   "file_extension": ".py",
   "mimetype": "text/x-python",
   "name": "python",
   "nbconvert_exporter": "python",
   "pygments_lexer": "ipython3",
   "version": "3.12.2"
  }
 },
 "nbformat": 4,
 "nbformat_minor": 5
}
